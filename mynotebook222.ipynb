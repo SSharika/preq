{
  "cells": [
    {
      "cell_type": "markdown",
      "metadata": {
        "id": "CRfF-wYtAFL4"
      },
      "source": [
        "1. Multiplications will be k x m x n\n",
        "This is because the output matrix will be of m x n size so there will be m x n elements total and each element requires a multiplication k times\n",
        "  Additions will be (k-1) x m x n\n",
        "  This is because addition is a binomial operation amd the products of the subsequent elements in the row and columns become the operands so each element of the output matrix requires k-1 additions and therefore a total of (k-1) x m x n additions"
      ]
    },
    {
      "cell_type": "code",
      "execution_count": null,
      "metadata": {
        "id": "GAQaQE_5AFMD"
      },
      "outputs": [],
      "source": []
    },
    {
      "cell_type": "code",
      "source": [],
      "metadata": {
        "id": "9oih99iiCVw7"
      },
      "execution_count": null,
      "outputs": []
    },
    {
      "cell_type": "markdown",
      "metadata": {
        "id": "yt8mlEZcAFME"
      },
      "source": [
        " 2."
      ]
    },
    {
      "cell_type": "code",
      "execution_count": 5,
      "metadata": {
        "colab": {
          "base_uri": "https://localhost:8080/"
        },
        "id": "bWvFiFNuAFME",
        "outputId": "9b2c23c7-c7f8-4430-c055-020696baec96"
      },
      "outputs": [
        {
          "output_type": "stream",
          "name": "stdout",
          "text": [
            "3.8 µs ± 48.1 ns per loop (mean ± std. dev. of 7 runs, 100000 loops each)\n"
          ]
        }
      ],
      "source": [
        "%%timeit\n",
        "\n",
        "n=3\n",
        "m=3\n",
        "k=3\n",
        "\n",
        "A=[[1,2,3],[4,5,6],[7,8,9]]\n",
        "B=[[1,0,0],[0,1,0],[0,0,1]]\n",
        "\n",
        "matrix = []\n",
        "\n",
        "for i in range(n):\n",
        "    r = A[i]\n",
        "    e=[]\n",
        "    for p in range(m):\n",
        "        s=0\n",
        "        for j in range(k):\n",
        "            c=B[j]\n",
        "            s=s+r[j]*c[p]\n",
        "        e.append(s)\n",
        "    matrix.append(e)\n",
        "\n",
        "\n",
        "\n"
      ]
    },
    {
      "cell_type": "code",
      "execution_count": 5,
      "metadata": {
        "id": "xO13b-ybAFME"
      },
      "outputs": [],
      "source": []
    },
    {
      "cell_type": "code",
      "execution_count": null,
      "metadata": {
        "id": "CWEu904DAFMF",
        "outputId": "de6dd2d0-94dc-44b7-c088-38c848d3f505"
      },
      "outputs": [
        {
          "ename": "SyntaxError",
          "evalue": "invalid decimal literal (1502646015.py, line 1)",
          "output_type": "error",
          "traceback": [
            "\u001b[1;36m  Cell \u001b[1;32mIn[52], line 1\u001b[1;36m\u001b[0m\n\u001b[1;33m    jupyter nbconvert --to html Untitled-1.ipynb\u001b[0m\n\u001b[1;37m                                          ^\u001b[0m\n\u001b[1;31mSyntaxError\u001b[0m\u001b[1;31m:\u001b[0m invalid decimal literal\n"
          ]
        }
      ],
      "source": [
        "jupyter nbconvert --to html Untitled-1.ipynb"
      ]
    },
    {
      "cell_type": "code",
      "execution_count": 2,
      "metadata": {
        "colab": {
          "base_uri": "https://localhost:8080/"
        },
        "id": "pBuvWHekAFMF",
        "outputId": "d963cabf-4f90-4b01-b40f-190dd82ca292"
      },
      "outputs": [
        {
          "output_type": "stream",
          "name": "stdout",
          "text": [
            "9.23 µs ± 2.28 µs per loop (mean ± std. dev. of 7 runs, 10000 loops each)\n"
          ]
        }
      ],
      "source": [
        "%%timeit\n",
        "import numpy as np\n",
        "\n",
        "A=[[1,2,3],[4,5,6],[7,8,9]]\n",
        "B=[[1,0,0],[0,1,0],[0,0,1]]\n",
        "matrix = np.dot(A,B)"
      ]
    },
    {
      "cell_type": "markdown",
      "metadata": {
        "id": "mNExiWDvAFMF"
      },
      "source": [
        "The numpy solution is expected to be faster but we observe the opposite here. Numpy is implemented in C and optimized for numerical operations, while the list of lists solution is implemented in pure Python. So, the extra time of conversion comes into picture here. The difference in performance becomes more significant as the size of the matrices increases and numpy wound tend to be faster."
      ]
    },
    {
      "cell_type": "markdown",
      "metadata": {
        "id": "7vHJlwyeAFMF"
      },
      "source": [
        "3. According to the method suggested the time compexity for the median will be O(n*(n/2)) = O(n^2)\n",
        "   I would suggest a faster method which would use quick sort to sort first and then bich the middle number. This has a time complexity of 0(nlogn)"
      ]
    },
    {
      "cell_type": "code",
      "execution_count": 3,
      "metadata": {
        "colab": {
          "base_uri": "https://localhost:8080/"
        },
        "id": "j5aSmccFAFMF",
        "outputId": "f5f57d9c-19a7-4ac1-ded3-275b947b1cd7"
      },
      "outputs": [
        {
          "output_type": "stream",
          "name": "stdout",
          "text": [
            "4\n",
            "[7, 7, 5, 5, 4]\n"
          ]
        }
      ],
      "source": [
        "ls = [3, 1, 5, 4, 7, 0, 5, 3, 7]\n",
        "counts = {}\n",
        "done = []\n",
        "ln = len(ls)\n",
        "x = ln // 2\n",
        "\n",
        "\n",
        "for num in ls:\n",
        "    if num in counts:\n",
        "        counts[num] += 1\n",
        "    else:\n",
        "        counts[num] = 1\n",
        "\n",
        "\n",
        "for j in range(x + 1):\n",
        "    large = None\n",
        "    for num in counts:\n",
        "        if counts[num] > 0:\n",
        "            if large is None or num > large:\n",
        "                large = num\n",
        "    done.append(large)\n",
        "    counts[large] -= 1\n",
        "\n",
        "if ln % 2 == 0:\n",
        "    median = (done[-1] + done[-2]) / 2\n",
        "else:\n",
        "    median = done[-1]\n",
        "\n",
        "print(median)\n",
        "print(done)\n"
      ]
    },
    {
      "cell_type": "code",
      "execution_count": 4,
      "metadata": {
        "colab": {
          "base_uri": "https://localhost:8080/"
        },
        "id": "24DpKNmDAFMF",
        "outputId": "ac97304d-5e74-4907-ae9d-0c6e27773619"
      },
      "outputs": [
        {
          "output_type": "stream",
          "name": "stdout",
          "text": [
            "190 ns ± 5.75 ns per loop (mean ± std. dev. of 7 runs, 1000000 loops each)\n"
          ]
        }
      ],
      "source": [
        "%%timeit\n",
        "import numpy as np\n",
        "\n",
        "def calculate_numpy_median(input_list):\n",
        "    return np.median(input_list)\n",
        "\n",
        "ls = [3, 1, 5, 4, 7, 0, 5, 3, 7]\n",
        "\n"
      ]
    },
    {
      "cell_type": "markdown",
      "metadata": {
        "id": "jf17K3ENAFMG"
      },
      "source": [
        "4.\n",
        "$f(x,y) =  x^2y+y^3\\sin(x)$\n",
        "\n",
        "Partial derivitive wrt x: $\\frac{\\partial f(x,y)}{\\partial x} = {2xy + y^3\\cos(x)}$\n",
        "\n",
        "Partial derivitive wrt y: $\\frac{\\partial f(x,y)}{\\partial y} = {x^2 + 3y^2\\sin(x)}$\n",
        "\n",
        "$grad{(f(x,y))} = ({2xy + y^3\\cos(x)}, {x^2 + 3y^2\\sin(x)})$\n"
      ]
    },
    {
      "cell_type": "markdown",
      "metadata": {
        "id": "_IlxJLNwAFMG"
      },
      "source": [
        "5."
      ]
    },
    {
      "cell_type": "code",
      "execution_count": null,
      "metadata": {
        "id": "26qc1nTAAFMG",
        "outputId": "8057d182-b5bb-4131-d40e-2cd320f041a3"
      },
      "outputs": [
        {
          "name": "stdout",
          "output_type": "stream",
          "text": [
            "JAX Gradient at (x, y) = (1.0, 2.0): (Array(8.322418, dtype=float32, weak_type=True), Array(11.0976515, dtype=float32, weak_type=True))\n"
          ]
        }
      ],
      "source": [
        "\n",
        "import jax\n",
        "import jax.numpy as jnp\n",
        "\n",
        "def f_jax(x, y):\n",
        "    return x**2 * y + y**3 * jnp.sin(x)\n",
        "\n",
        "grad_f_jax = jax.grad(f_jax, argnums=(0, 1))\n",
        "\n",
        "x_val, y_val = 1.0, 2.0\n",
        "\n",
        "jax_gradient = grad_f_jax(x_val, y_val)\n",
        "print(f\"JAX Gradient at (x, y) = ({x_val}, {y_val}): {jax_gradient}\")"
      ]
    },
    {
      "cell_type": "markdown",
      "metadata": {
        "id": "ab9ykaiCAFMG"
      },
      "source": [
        "6.\n"
      ]
    },
    {
      "cell_type": "code",
      "execution_count": null,
      "metadata": {
        "id": "FNuduKqjAFMG",
        "outputId": "19b8e195-fc9c-49c0-9155-ae0c4929c72a"
      },
      "outputs": [
        {
          "name": "stdout",
          "output_type": "stream",
          "text": [
            "SymPy Gradient at (x, y) = (1.0, 2.0): (8.32241844694512, 11.0976518176948)\n"
          ]
        }
      ],
      "source": [
        "import sympy as sp\n",
        "x, y = sp.symbols('x y')\n",
        "f_sympy = x**2 * y + y**3 * sp.sin(x)\n",
        "\n",
        "df_dx = sp.diff(f_sympy, x)\n",
        "df_dy = sp.diff(f_sympy, y)\n",
        "\n",
        "x_val, y_val = 1.0, 2.0\n",
        "\n",
        "sympy_gradient = (df_dx.evalf(subs={x: x_val, y: y_val}), df_dy.evalf(subs={x: x_val, y: y_val}))\n",
        "print(f\"SymPy Gradient at (x, y) = ({x_val}, {y_val}): {sympy_gradient}\")"
      ]
    },
    {
      "cell_type": "markdown",
      "metadata": {
        "id": "OHpAu_PgAFMG"
      },
      "source": [
        "7."
      ]
    },
    {
      "cell_type": "code",
      "execution_count": null,
      "metadata": {
        "id": "T2maunDvAFMG",
        "outputId": "4aa8e234-0e74-4931-ce9a-82ab641c7ab4"
      },
      "outputs": [
        {
          "name": "stdout",
          "output_type": "stream",
          "text": [
            "{2022: {'Branch 1': {1: {'Roll number': '21110001', 'Name': 'Anamika', 'Marks': {'Maths': 95, 'English': 85}}, 2: {'Roll number': '21110006', 'Name': 'Bhavana', 'Marks': {'Maths': 86, 'English': 81}}}, 'Branch 2': {1: {'Roll number': '21110001', 'Name': 'Charles', 'Marks': {'Maths': 94, 'English': 70}}, 2: {'Roll number': '21110002', 'Name': 'Hermione', 'Marks': {'Maths': 100, 'English': 100}}}}, 2023: {'Branch 1': {1: {'Roll number': '21110194', 'Name': 'Gargi', 'Marks': {'Maths': 98, 'English': 100}}, 2: {'Roll number': '21110224', 'Name': 'Felica', 'Marks': {'Maths': 80, 'English': 82}}}, 'Branch 2': {1: {'Roll number': '21110005', 'Name': 'Dennis', 'Marks': {'Maths': 98, 'English': 74}}, 2: {'Roll number': '21110008', 'Name': 'Evana', 'Marks': {'Maths': 76, 'English': 87}}}}, 2024: {'Branch 1': {1: {'Roll number': '21110050', 'Name': 'Augusta', 'Marks': {'Maths': 80, 'English': 75}}, 2: {'Roll number': '21110185', 'Name': 'Gregory', 'Marks': {'Maths': 78, 'English': 68}}}, 'Branch 2': {1: {'Roll number': '21110011', 'Name': 'Ronald', 'Marks': {'Maths': 85, 'English': 80}}, 2: {'Roll number': '21110123', 'Name': 'Mytrle', 'Marks': {'Maths': 75, 'English': 90}}}}, 2025: {'Branch 1': {1: {'Roll number': '21110009', 'Name': 'Lavanya', 'Marks': {'Maths': 82, 'English': 78}}, 2: {'Roll number': '21110071', 'Name': 'Helena', 'Marks': {'Maths': 80, 'English': 68}}}, 'Branch 2': {1: {'Roll number': '21110016', 'Name': 'Mark', 'Marks': {'Maths': 70, 'English': 85}}, 2: {'Roll number': '21110029', 'Name': 'Ariana', 'Marks': {'Maths': 87, 'English': 90}}}}}\n"
          ]
        }
      ],
      "source": [
        "\n",
        "\n",
        "data = {\n",
        "    2022: {\n",
        "        'Branch 1': {\n",
        "            1: {'Roll number': '21110001', 'Name': 'Anamika', 'Marks': {'Maths': 95, 'English': 85}},\n",
        "            2: {'Roll number': '21110006', 'Name': 'Bhavana', 'Marks': {'Maths': 86, 'English': 81}},\n",
        "        },\n",
        "        'Branch 2': {\n",
        "            1: {'Roll number': '21110001', 'Name': 'Charles', 'Marks': {'Maths': 94, 'English': 70}},\n",
        "            2: {'Roll number': '21110002', 'Name': 'Hermione', 'Marks': {'Maths': 100, 'English': 100}},\n",
        "        }\n",
        "    },\n",
        "    2023: {\n",
        "        'Branch 1': {\n",
        "            1: {'Roll number': '21110194', 'Name': 'Gargi', 'Marks': {'Maths': 98, 'English': 100}},\n",
        "            2: {'Roll number': '21110224', 'Name': 'Felica', 'Marks': {'Maths': 80, 'English': 82}},\n",
        "        },\n",
        "        'Branch 2': {\n",
        "            1: {'Roll number': '21110005', 'Name': 'Dennis', 'Marks': {'Maths': 98, 'English': 74}},\n",
        "            2: {'Roll number': '21110008', 'Name': 'Evana', 'Marks': {'Maths': 76, 'English': 87}},\n",
        "        },\n",
        "    },\n",
        "    2024: {\n",
        "        'Branch 1': {\n",
        "            1: {'Roll number': '21110050', 'Name': 'Augusta', 'Marks': {'Maths': 80, 'English': 75}},\n",
        "            2: {'Roll number': '21110185', 'Name': 'Gregory', 'Marks': {'Maths': 78, 'English': 68}},\n",
        "        },\n",
        "        'Branch 2': {\n",
        "            1: {'Roll number': '21110011', 'Name': 'Ronald', 'Marks': {'Maths': 85, 'English': 80}},\n",
        "            2: {'Roll number': '21110123', 'Name': 'Mytrle', 'Marks': {'Maths': 75, 'English': 90}},\n",
        "        },\n",
        "    },\n",
        "    2025: {\n",
        "        'Branch 1': {\n",
        "            1: {'Roll number': '21110009', 'Name': 'Lavanya', 'Marks': {'Maths': 82, 'English': 78}},\n",
        "            2: {'Roll number': '21110071', 'Name': 'Helena', 'Marks': {'Maths': 80, 'English': 68}},\n",
        "        },\n",
        "        'Branch 2': {\n",
        "            1: {'Roll number': '21110016', 'Name': 'Mark', 'Marks': {'Maths': 70, 'English': 85}},\n",
        "            2: {'Roll number': '21110029', 'Name': 'Ariana', 'Marks': {'Maths': 87, 'English': 90}},\n",
        "        },\n",
        "    },\n",
        "}\n",
        "\n",
        "print(data)"
      ]
    },
    {
      "cell_type": "markdown",
      "metadata": {
        "id": "I3Fol764AFMG"
      },
      "source": [
        "8.\n"
      ]
    },
    {
      "cell_type": "code",
      "execution_count": null,
      "metadata": {
        "id": "7V1OFox9AFMH",
        "outputId": "c9df6bd1-c050-471a-da70-974b6eef1abb"
      },
      "outputs": [
        {
          "name": "stdout",
          "output_type": "stream",
          "text": [
            "Year: 2022\n",
            "  Branch: Branch 1\n",
            "     Roll Number 21110001-  Student: W  - Marks: {'Maths': 96, 'English': 48}\n",
            "     Roll Number 21110002-  Student: W  - Marks: {'Maths': 66, 'English': 39}\n",
            "  Branch: Branch 2\n",
            "     Roll Number 21110001-  Student: M  - Marks: {'Maths': 40, 'English': 92}\n",
            "     Roll Number 21110002-  Student: X  - Marks: {'Maths': 41, 'English': 72}\n",
            "Year: 2023\n",
            "  Branch: Branch 1\n",
            "     Roll Number 21110001-  Student: E  - Marks: {'Maths': 96, 'English': 97}\n",
            "     Roll Number 21110002-  Student: Q  - Marks: {'Maths': 98, 'English': 72}\n",
            "  Branch: Branch 2\n",
            "     Roll Number 21110001-  Student: D  - Marks: {'Maths': 68, 'English': 80}\n",
            "     Roll Number 21110002-  Student: V  - Marks: {'Maths': 88, 'English': 77}\n",
            "Year: 2024\n",
            "  Branch: Branch 1\n",
            "     Roll Number 21110001-  Student: D  - Marks: {'Maths': 42, 'English': 75}\n",
            "     Roll Number 21110002-  Student: I  - Marks: {'Maths': 82, 'English': 68}\n",
            "  Branch: Branch 2\n",
            "     Roll Number 21110001-  Student: L  - Marks: {'Maths': 56, 'English': 80}\n",
            "     Roll Number 21110002-  Student: T  - Marks: {'Maths': 87, 'English': 50}\n",
            "Year: 2025\n",
            "  Branch: Branch 1\n",
            "     Roll Number 21110001-  Student: P  - Marks: {'Maths': 75, 'English': 52}\n",
            "     Roll Number 21110002-  Student: E  - Marks: {'Maths': 36, 'English': 81}\n",
            "  Branch: Branch 2\n",
            "     Roll Number 21110001-  Student: I  - Marks: {'Maths': 69, 'English': 94}\n",
            "     Roll Number 21110002-  Student: Q  - Marks: {'Maths': 77, 'English': 59}\n"
          ]
        }
      ],
      "source": [
        "\n",
        "\n",
        "class Student:\n",
        "    def __init__(self, roll_number, name, marks):\n",
        "        self.roll_number = roll_number\n",
        "        self.name = name\n",
        "        self.marks = marks\n",
        "\n",
        "class Branch:\n",
        "    def __init__(self, name):\n",
        "        self.name = name\n",
        "        self.students = []\n",
        "\n",
        "    def add_student(self, student):\n",
        "        self.students.append(student)\n",
        "\n",
        "class Year:\n",
        "    def __init__(self, year):\n",
        "        self.year = year\n",
        "        self.branches = []\n",
        "\n",
        "    def add_branch(self, branch):\n",
        "        self.branches.append(branch)\n",
        "\n",
        "class Database:\n",
        "    def __init__(self):\n",
        "        self.years = []\n",
        "\n",
        "    def add_year(self, year):\n",
        "        self.years.append(year)\n",
        "\n",
        "# Generating data\n",
        "years = 4\n",
        "branches = 2\n",
        "num_students_per_branch = 2\n",
        "\n",
        "database = Database()\n",
        "\n",
        "for index_y in range(years):\n",
        "    year_number = 2022 + index_y\n",
        "    current_year = Year(year_number)\n",
        "\n",
        "    for index_b in range(branches):\n",
        "        branch_name = f'Branch {index_b + 1}'\n",
        "        current_branch = Branch(branch_name)\n",
        "\n",
        "        for index_s in range(num_students_per_branch):\n",
        "            roll_number = f'Roll Number {index_s + 21110001}'\n",
        "            name = chr(np.random.randint(65, 90))\n",
        "            marks = {'Maths': np.random.randint(30, 100), 'English': np.random.randint(30, 100)}\n",
        "\n",
        "            current_student = Student(roll_number, name, marks)\n",
        "            current_branch.add_student(current_student)\n",
        "\n",
        "        current_year.add_branch(current_branch)\n",
        "\n",
        "    database.add_year(current_year)\n",
        "\n",
        "for year in database.years:\n",
        "    print(f\"Year: {year.year}\")\n",
        "    for branch in year.branches:\n",
        "        print(f\"  Branch: {branch.name}\")\n",
        "        for student in branch.students:\n",
        "            print(f\"     {student.roll_number}-  Student: {student.name}  - Marks: {student.marks}\")\n"
      ]
    },
    {
      "cell_type": "markdown",
      "metadata": {
        "id": "XxOOkzcwAFMH"
      },
      "source": [
        "9."
      ]
    },
    {
      "cell_type": "code",
      "execution_count": null,
      "metadata": {
        "id": "xr-LTlUmAFMH",
        "outputId": "36575a01-385d-40da-a4f9-7505ca36e676"
      },
      "outputs": [
        {
          "data": {
            "image/png": "[encoded data removed]",
            "text/plain": [
              "<Figure size 1000x1000 with 7 Axes>"
            ]
          },
          "metadata": {},
          "output_type": "display_data"
        }
      ],
      "source": [
        "import numpy as np\n",
        "import matplotlib.pyplot as plt\n",
        "\n",
        "x_value = np.arange(0.5,100.1,0.2)\n",
        "\n",
        "y_value_x = x_value\n",
        "y_value_x_2 = (x_value)**2\n",
        "y_value_x_3 = ((x_value)**3)/100\n",
        "y_value_sin = np.sin(x_value)\n",
        "y_value_sin_x = (np.sin(x_value))/x_value\n",
        "y_value_log = np.log(x_value)\n",
        "y_value_exp = np.exp(x_value)\n",
        "\n",
        "\n",
        "\n",
        "plt.figure(figsize=(10, 10))\n",
        "plt.subplot(3,3 , 1)\n",
        "plt.plot(x_value,y_value_x)\n",
        "plt.title('y = x')\n",
        "plt.xlabel('x')\n",
        "plt.ylabel('y')\n",
        "\n",
        "\n",
        "plt.subplot(3,3 , 2)\n",
        "plt.plot(x_value,y_value_x_2)\n",
        "plt.title('y = x^2')\n",
        "plt.xlabel('x')\n",
        "plt.ylabel('y')\n",
        "\n",
        "\n",
        "plt.subplot(3,3 , 3)\n",
        "plt.plot(x_value,y_value_x_3)\n",
        "plt.title('y = x^3 / 100')\n",
        "plt.xlabel('x')\n",
        "plt.ylabel('y')\n",
        "\n",
        "\n",
        "plt.subplot(3,3 , 4)\n",
        "plt.plot(x_value,y_value_sin)\n",
        "plt.title('y = sin(x)')\n",
        "plt.xlabel('x')\n",
        "plt.ylabel('y')\n",
        "\n",
        "\n",
        "plt.subplot(3,3 , 5)\n",
        "plt.plot(x_value,y_value_sin_x)\n",
        "plt.title('y = sin(x)/x')\n",
        "plt.xlabel('x')\n",
        "plt.ylabel('y')\n",
        "\n",
        "\n",
        "plt.subplot(3,3 , 6)\n",
        "plt.plot(x_value,y_value_log)\n",
        "plt.title('y = log(x)')\n",
        "plt.xlabel('x')\n",
        "plt.ylabel('y')\n",
        "\n",
        "\n",
        "plt.subplot(3,3, 7)\n",
        "plt.plot(x_value,y_value_exp)\n",
        "plt.title('y = e^x')\n",
        "plt.xlabel('x')\n",
        "plt.ylabel('y')\n",
        "plt.show()\n"
      ]
    },
    {
      "cell_type": "markdown",
      "metadata": {
        "id": "8KF0nn2rAFMH"
      },
      "source": [
        "12"
      ]
    },
    {
      "cell_type": "code",
      "execution_count": null,
      "metadata": {
        "id": "oTv3al9DAFMH",
        "outputId": "22d005f4-d7d4-42ab-fbd2-a27bc055e566"
      },
      "outputs": [
        {
          "name": "stdout",
          "output_type": "stream",
          "text": [
            "A\n",
            "[[1 2 3]\n",
            " [6 9 7]]\n",
            "B\n",
            "[[1 2 3]]\n",
            "C\n",
            "[[ 2  4  6]\n",
            " [ 7 11 10]]\n"
          ]
        }
      ],
      "source": [
        "A = np.array([[1,2,3],[6,9,7]])\n",
        "B = np.array([[1,2,3]])\n",
        "C = A + B\n",
        "\n",
        "print(\"A\")\n",
        "print(A)\n",
        "print(\"B\")\n",
        "print(B)\n",
        "print(\"C\")\n",
        "print(C)"
      ]
    },
    {
      "cell_type": "markdown",
      "metadata": {
        "id": "c9doOfbsAFMH"
      },
      "source": [
        "Here we can see that even though both A and B are not of same sixe the operation happened by strecthing the elements of B across 1 dimension"
      ]
    },
    {
      "cell_type": "markdown",
      "metadata": {
        "id": "VbGyT-5mAFMH"
      },
      "source": [
        "13\n"
      ]
    },
    {
      "cell_type": "code",
      "execution_count": null,
      "metadata": {
        "id": "xRks8FoxAFMH",
        "outputId": "00265b36-655a-4396-e4e5-46e3d1020e57"
      },
      "outputs": [
        {
          "name": "stdout",
          "output_type": "stream",
          "text": [
            "6\n"
          ]
        }
      ],
      "source": [
        "import numpy as np\n",
        "argmin = 0\n",
        "ls = np.array([4,2,1,6,5,8,0,9])\n",
        "\n",
        "l = len(ls)\n",
        "\n",
        "for i in range(l):\n",
        "    if(ls[i]<ls[argmin]):\n",
        "        argmin = i\n",
        "\n",
        "print(argmin)\n"
      ]
    },
    {
      "cell_type": "code",
      "execution_count": null,
      "metadata": {
        "id": "gmTsl7G3AFMH",
        "outputId": "42d89f86-6fae-408b-b7e5-7737794ccd51"
      },
      "outputs": [
        {
          "name": "stdout",
          "output_type": "stream",
          "text": [
            "6\n"
          ]
        }
      ],
      "source": [
        "import numpy as np\n",
        "ls = np.array([4,2,1,6,5,8,0,9])\n",
        "argmin=np.argmin(ls)\n",
        "print(argmin)"
      ]
    }
  ],
  "metadata": {
    "kernelspec": {
      "display_name": "Python 3",
      "language": "python",
      "name": "python3"
    },
    "language_info": {
      "codemirror_mode": {
        "name": "ipython",
        "version": 3
      },
      "file_extension": ".py",
      "mimetype": "text/x-python",
      "name": "python",
      "nbconvert_exporter": "python",
      "pygments_lexer": "ipython3",
      "version": "3.11.9"
    },
    "orig_nbformat": 4,
    "colab": {
      "provenance": []
    }
  },
  "nbformat": 4,
  "nbformat_minor": 0
}